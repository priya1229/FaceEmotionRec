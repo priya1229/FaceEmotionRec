{
 "cells": [
  {
   "cell_type": "code",
   "execution_count": 1,
   "id": "8edaed0a-1e9a-4e34-8fd6-979dff9d03cd",
   "metadata": {},
   "outputs": [
    {
     "name": "stdout",
     "output_type": "stream",
     "text": [
      "WARNING:tensorflow:From c:\\users\\priya.rajak\\appdata\\local\\programs\\python\\python39\\lib\\site-packages\\keras\\src\\losses.py:2976: The name tf.losses.sparse_softmax_cross_entropy is deprecated. Please use tf.compat.v1.losses.sparse_softmax_cross_entropy instead.\n",
      "\n"
     ]
    }
   ],
   "source": [
    "import numpy as np\n",
    "import tensorflow as tf\n",
    "from tensorflow.keras.models import Sequential\n",
    "from tensorflow.keras.layers import Dense, Dropout, Flatten, Conv2D, MaxPooling2D\n",
    "from tensorflow.keras.optimizers import Adam\n",
    "from tensorflow.keras.preprocessing.image import ImageDataGenerator\n",
    "from sklearn.metrics import classification_report, confusion_matrix\n",
    "import seaborn as sns\n",
    "import matplotlib.pyplot as plt"
   ]
  },
  {
   "cell_type": "code",
   "execution_count": 2,
   "id": "d37118e6-6be3-4d07-b0c2-f687d88ae7a9",
   "metadata": {},
   "outputs": [],
   "source": [
    "# Set the seed for reproducibility\n",
    "np.random.seed(42)\n",
    "tf.random.set_seed(42)"
   ]
  },
  {
   "cell_type": "code",
   "execution_count": 3,
   "id": "d3b1565b-5143-490f-b3d5-3ae18894acf7",
   "metadata": {},
   "outputs": [],
   "source": [
    "# Data directories\n",
    "train_dir = 'images/train'\n",
    "test_dir = 'images/test'"
   ]
  },
  {
   "cell_type": "code",
   "execution_count": 4,
   "id": "7db58a23-8c9d-4a81-b710-b149baa3a954",
   "metadata": {},
   "outputs": [],
   "source": [
    "\n",
    "# Data generators\n",
    "train_datagen = ImageDataGenerator(rescale=1./255)\n",
    "test_datagen = ImageDataGenerator(rescale=1./255)"
   ]
  },
  {
   "cell_type": "code",
   "execution_count": 5,
   "id": "5a77ce3a-ce6a-4bac-829b-a2e3a19e30e3",
   "metadata": {},
   "outputs": [
    {
     "name": "stdout",
     "output_type": "stream",
     "text": [
      "Found 28821 images belonging to 7 classes.\n"
     ]
    }
   ],
   "source": [
    "train_generator = train_datagen.flow_from_directory(\n",
    "    train_dir,\n",
    "    target_size=(48, 48),\n",
    "    batch_size=64,\n",
    "    color_mode=\"grayscale\",\n",
    "    class_mode='sparse',  # Change class_mode to 'sparse'\n",
    "    shuffle=True,\n",
    ")\n"
   ]
  },
  {
   "cell_type": "code",
   "execution_count": 6,
   "id": "7ebaee68-647b-49f8-8391-428cc1aefe77",
   "metadata": {},
   "outputs": [
    {
     "name": "stdout",
     "output_type": "stream",
     "text": [
      "Found 7066 images belonging to 7 classes.\n"
     ]
    }
   ],
   "source": [
    "test_generator = test_datagen.flow_from_directory(\n",
    "    test_dir,\n",
    "    target_size=(48, 48),\n",
    "    batch_size=64,\n",
    "    color_mode=\"grayscale\",\n",
    "    class_mode='sparse',  # Change class_mode to 'sparse'\n",
    "    shuffle=False,  # Set shuffle to False for better evaluation\n",
    ")"
   ]
  },
  {
   "cell_type": "code",
   "execution_count": 7,
   "id": "e496f2a7-5899-41bb-8c69-b66ee0b24f96",
   "metadata": {},
   "outputs": [
    {
     "name": "stdout",
     "output_type": "stream",
     "text": [
      "WARNING:tensorflow:From c:\\users\\priya.rajak\\appdata\\local\\programs\\python\\python39\\lib\\site-packages\\keras\\src\\backend.py:873: The name tf.get_default_graph is deprecated. Please use tf.compat.v1.get_default_graph instead.\n",
      "\n",
      "WARNING:tensorflow:From c:\\users\\priya.rajak\\appdata\\local\\programs\\python\\python39\\lib\\site-packages\\keras\\src\\layers\\pooling\\max_pooling2d.py:161: The name tf.nn.max_pool is deprecated. Please use tf.nn.max_pool2d instead.\n",
      "\n"
     ]
    }
   ],
   "source": [
    "# Model\n",
    "model = Sequential()\n",
    "model.add(Conv2D(32, kernel_size=(3, 3), activation='relu', input_shape=(48, 48, 1)))\n",
    "model.add(Conv2D(64, kernel_size=(3, 3), activation='relu'))\n",
    "model.add(MaxPooling2D(pool_size=(2, 2), padding='valid'))\n",
    "model.add(Dropout(0.25))\n",
    "model.add(Conv2D(128, kernel_size=(3, 3), activation='relu'))\n",
    "model.add(MaxPooling2D(pool_size=(2, 2), padding='valid'))\n",
    "model.add(Conv2D(128, kernel_size=(3, 3), activation='relu'))\n",
    "model.add(MaxPooling2D(pool_size=(2, 2), padding='valid'))\n",
    "model.add(Dropout(0.25))\n",
    "model.add(Flatten())\n",
    "model.add(Dense(1024, activation='relu'))\n",
    "model.add(Dropout(0.5))\n",
    "model.add(Dense(7, activation='softmax'))\n",
    "\n"
   ]
  },
  {
   "cell_type": "code",
   "execution_count": 8,
   "id": "98449117-eafc-4662-9afa-38c532ec5f41",
   "metadata": {},
   "outputs": [],
   "source": [
    "# Model compilation\n",
    "model.compile(\n",
    "    loss='sparse_categorical_crossentropy',  # Use sparse categorical crossentropy for integer labels\n",
    "    optimizer=Adam(learning_rate=0.0001, beta_1=0.9, beta_2=0.999, epsilon=1e-07),\n",
    "    metrics=['accuracy']\n",
    ")\n"
   ]
  },
  {
   "cell_type": "code",
   "execution_count": 9,
   "id": "07312614-c884-4650-b0df-50c689a9bea6",
   "metadata": {},
   "outputs": [
    {
     "name": "stdout",
     "output_type": "stream",
     "text": [
      "Epoch 1/100\n",
      "WARNING:tensorflow:From c:\\users\\priya.rajak\\appdata\\local\\programs\\python\\python39\\lib\\site-packages\\keras\\src\\utils\\tf_utils.py:492: The name tf.ragged.RaggedTensorValue is deprecated. Please use tf.compat.v1.ragged.RaggedTensorValue instead.\n",
      "\n",
      "WARNING:tensorflow:From c:\\users\\priya.rajak\\appdata\\local\\programs\\python\\python39\\lib\\site-packages\\keras\\src\\engine\\base_layer_utils.py:384: The name tf.executing_eagerly_outside_functions is deprecated. Please use tf.compat.v1.executing_eagerly_outside_functions instead.\n",
      "\n",
      "451/451 [==============================] - 749s 2s/step - loss: 1.7982 - accuracy: 0.2614 - val_loss: 1.7030 - val_accuracy: 0.3360\n",
      "Epoch 2/100\n",
      "451/451 [==============================] - 481s 1s/step - loss: 1.6267 - accuracy: 0.3664 - val_loss: 1.5455 - val_accuracy: 0.4128\n",
      "Epoch 3/100\n",
      "451/451 [==============================] - 416s 916ms/step - loss: 1.5308 - accuracy: 0.4142 - val_loss: 1.4623 - val_accuracy: 0.4471\n",
      "Epoch 4/100\n",
      "451/451 [==============================] - 434s 962ms/step - loss: 1.4590 - accuracy: 0.4433 - val_loss: 1.4205 - val_accuracy: 0.4590\n",
      "Epoch 5/100\n",
      "451/451 [==============================] - 421s 932ms/step - loss: 1.3982 - accuracy: 0.4669 - val_loss: 1.3557 - val_accuracy: 0.4844\n",
      "Epoch 6/100\n",
      "451/451 [==============================] - 566s 1s/step - loss: 1.3454 - accuracy: 0.4912 - val_loss: 1.3153 - val_accuracy: 0.5000\n",
      "Epoch 7/100\n",
      "451/451 [==============================] - 502s 1s/step - loss: 1.3023 - accuracy: 0.5076 - val_loss: 1.2717 - val_accuracy: 0.5149\n",
      "Epoch 8/100\n",
      "451/451 [==============================] - 380s 843ms/step - loss: 1.2629 - accuracy: 0.5229 - val_loss: 1.2320 - val_accuracy: 0.5301\n",
      "Epoch 9/100\n",
      "451/451 [==============================] - 304s 675ms/step - loss: 1.2259 - accuracy: 0.5376 - val_loss: 1.2151 - val_accuracy: 0.5447\n",
      "Epoch 10/100\n",
      "451/451 [==============================] - 305s 676ms/step - loss: 1.1968 - accuracy: 0.5474 - val_loss: 1.2005 - val_accuracy: 0.5488\n",
      "Epoch 11/100\n",
      "451/451 [==============================] - 305s 675ms/step - loss: 1.1676 - accuracy: 0.5609 - val_loss: 1.1733 - val_accuracy: 0.5603\n",
      "Epoch 12/100\n",
      "451/451 [==============================] - 305s 677ms/step - loss: 1.1405 - accuracy: 0.5711 - val_loss: 1.1541 - val_accuracy: 0.5686\n",
      "Epoch 13/100\n",
      "451/451 [==============================] - 619s 1s/step - loss: 1.1106 - accuracy: 0.5838 - val_loss: 1.1415 - val_accuracy: 0.5757\n",
      "Epoch 14/100\n",
      "451/451 [==============================] - 491s 1s/step - loss: 1.0865 - accuracy: 0.5940 - val_loss: 1.1286 - val_accuracy: 0.5801\n",
      "Epoch 15/100\n",
      "451/451 [==============================] - 305s 675ms/step - loss: 1.0623 - accuracy: 0.6016 - val_loss: 1.1264 - val_accuracy: 0.5818\n",
      "Epoch 16/100\n",
      "451/451 [==============================] - 308s 683ms/step - loss: 1.0425 - accuracy: 0.6110 - val_loss: 1.1076 - val_accuracy: 0.5894\n",
      "Epoch 17/100\n",
      "451/451 [==============================] - 305s 677ms/step - loss: 1.0167 - accuracy: 0.6197 - val_loss: 1.1120 - val_accuracy: 0.5817\n",
      "Epoch 18/100\n",
      "451/451 [==============================] - 305s 675ms/step - loss: 0.9977 - accuracy: 0.6281 - val_loss: 1.0944 - val_accuracy: 0.5975\n",
      "Epoch 19/100\n",
      "451/451 [==============================] - 305s 676ms/step - loss: 0.9707 - accuracy: 0.6398 - val_loss: 1.0848 - val_accuracy: 0.6010\n",
      "Epoch 20/100\n",
      "451/451 [==============================] - 305s 677ms/step - loss: 0.9463 - accuracy: 0.6522 - val_loss: 1.0901 - val_accuracy: 0.5984\n",
      "Epoch 21/100\n",
      "451/451 [==============================] - 305s 677ms/step - loss: 0.9302 - accuracy: 0.6577 - val_loss: 1.0830 - val_accuracy: 0.6029\n",
      "Epoch 22/100\n",
      "451/451 [==============================] - 305s 677ms/step - loss: 0.9082 - accuracy: 0.6659 - val_loss: 1.0754 - val_accuracy: 0.6098\n",
      "Epoch 23/100\n",
      "451/451 [==============================] - 306s 677ms/step - loss: 0.8778 - accuracy: 0.6772 - val_loss: 1.0695 - val_accuracy: 0.6156\n",
      "Epoch 24/100\n",
      "451/451 [==============================] - 305s 676ms/step - loss: 0.8589 - accuracy: 0.6836 - val_loss: 1.0680 - val_accuracy: 0.6138\n",
      "Epoch 25/100\n",
      "451/451 [==============================] - 305s 677ms/step - loss: 0.8406 - accuracy: 0.6912 - val_loss: 1.0732 - val_accuracy: 0.6094\n",
      "Epoch 26/100\n",
      "451/451 [==============================] - 306s 679ms/step - loss: 0.8156 - accuracy: 0.7003 - val_loss: 1.0646 - val_accuracy: 0.6117\n",
      "Epoch 27/100\n",
      "451/451 [==============================] - 306s 678ms/step - loss: 0.7853 - accuracy: 0.7134 - val_loss: 1.0694 - val_accuracy: 0.6146\n",
      "Epoch 28/100\n",
      "451/451 [==============================] - 404s 897ms/step - loss: 0.7659 - accuracy: 0.7185 - val_loss: 1.0652 - val_accuracy: 0.6162\n",
      "Epoch 29/100\n",
      "451/451 [==============================] - 319s 707ms/step - loss: 0.7411 - accuracy: 0.7276 - val_loss: 1.0728 - val_accuracy: 0.6156\n",
      "Epoch 30/100\n",
      "451/451 [==============================] - 306s 677ms/step - loss: 0.7180 - accuracy: 0.7388 - val_loss: 1.0799 - val_accuracy: 0.6186\n",
      "Epoch 31/100\n",
      "451/451 [==============================] - 305s 677ms/step - loss: 0.6961 - accuracy: 0.7483 - val_loss: 1.0858 - val_accuracy: 0.6152\n",
      "Epoch 32/100\n",
      "451/451 [==============================] - 306s 677ms/step - loss: 0.6723 - accuracy: 0.7576 - val_loss: 1.0760 - val_accuracy: 0.6214\n",
      "Epoch 33/100\n",
      "451/451 [==============================] - 305s 677ms/step - loss: 0.6540 - accuracy: 0.7606 - val_loss: 1.0935 - val_accuracy: 0.6214\n",
      "Epoch 34/100\n",
      "451/451 [==============================] - 306s 678ms/step - loss: 0.6366 - accuracy: 0.7702 - val_loss: 1.0765 - val_accuracy: 0.6279\n",
      "Epoch 35/100\n",
      "451/451 [==============================] - 305s 676ms/step - loss: 0.6147 - accuracy: 0.7746 - val_loss: 1.0891 - val_accuracy: 0.6261\n",
      "Epoch 36/100\n",
      "451/451 [==============================] - 305s 677ms/step - loss: 0.5928 - accuracy: 0.7856 - val_loss: 1.0914 - val_accuracy: 0.6265\n",
      "Epoch 37/100\n",
      "451/451 [==============================] - 305s 677ms/step - loss: 0.5719 - accuracy: 0.7930 - val_loss: 1.1007 - val_accuracy: 0.6294\n",
      "Epoch 38/100\n",
      "451/451 [==============================] - 305s 677ms/step - loss: 0.5603 - accuracy: 0.7962 - val_loss: 1.1003 - val_accuracy: 0.6231\n",
      "Epoch 39/100\n",
      "451/451 [==============================] - 307s 681ms/step - loss: 0.5372 - accuracy: 0.8077 - val_loss: 1.1116 - val_accuracy: 0.6264\n",
      "Epoch 40/100\n",
      "451/451 [==============================] - 306s 677ms/step - loss: 0.5226 - accuracy: 0.8108 - val_loss: 1.1280 - val_accuracy: 0.6316\n",
      "Epoch 41/100\n",
      "451/451 [==============================] - 305s 676ms/step - loss: 0.5034 - accuracy: 0.8177 - val_loss: 1.1329 - val_accuracy: 0.6329\n",
      "Epoch 42/100\n",
      "451/451 [==============================] - 305s 676ms/step - loss: 0.4841 - accuracy: 0.8264 - val_loss: 1.1369 - val_accuracy: 0.6281\n",
      "Epoch 43/100\n",
      "451/451 [==============================] - 306s 677ms/step - loss: 0.4658 - accuracy: 0.8307 - val_loss: 1.1523 - val_accuracy: 0.6289\n",
      "Epoch 44/100\n",
      "451/451 [==============================] - 377s 836ms/step - loss: 0.4539 - accuracy: 0.8347 - val_loss: 1.1353 - val_accuracy: 0.6221\n",
      "Epoch 45/100\n",
      "451/451 [==============================] - 317s 704ms/step - loss: 0.4352 - accuracy: 0.8434 - val_loss: 1.1654 - val_accuracy: 0.6315\n",
      "Epoch 46/100\n",
      "451/451 [==============================] - 306s 678ms/step - loss: 0.4274 - accuracy: 0.8456 - val_loss: 1.1562 - val_accuracy: 0.6274\n",
      "Epoch 47/100\n",
      "451/451 [==============================] - 305s 677ms/step - loss: 0.4062 - accuracy: 0.8541 - val_loss: 1.1980 - val_accuracy: 0.6267\n",
      "Epoch 48/100\n",
      "451/451 [==============================] - 306s 678ms/step - loss: 0.4011 - accuracy: 0.8547 - val_loss: 1.1836 - val_accuracy: 0.6275\n",
      "Epoch 49/100\n",
      "451/451 [==============================] - 307s 681ms/step - loss: 0.3924 - accuracy: 0.8591 - val_loss: 1.1980 - val_accuracy: 0.6286\n",
      "Epoch 50/100\n",
      "451/451 [==============================] - 306s 677ms/step - loss: 0.3719 - accuracy: 0.8669 - val_loss: 1.1992 - val_accuracy: 0.6247\n",
      "Epoch 51/100\n",
      "451/451 [==============================] - 305s 676ms/step - loss: 0.3604 - accuracy: 0.8721 - val_loss: 1.2234 - val_accuracy: 0.6295\n",
      "Epoch 52/100\n",
      "451/451 [==============================] - 305s 677ms/step - loss: 0.3455 - accuracy: 0.8765 - val_loss: 1.2282 - val_accuracy: 0.6271\n",
      "Epoch 53/100\n",
      "451/451 [==============================] - 305s 676ms/step - loss: 0.3418 - accuracy: 0.8767 - val_loss: 1.2433 - val_accuracy: 0.6313\n",
      "Epoch 54/100\n",
      "451/451 [==============================] - 305s 676ms/step - loss: 0.3346 - accuracy: 0.8798 - val_loss: 1.2326 - val_accuracy: 0.6308\n",
      "Epoch 55/100\n",
      "451/451 [==============================] - 306s 678ms/step - loss: 0.3217 - accuracy: 0.8857 - val_loss: 1.2662 - val_accuracy: 0.6332\n",
      "Epoch 56/100\n",
      "451/451 [==============================] - 307s 681ms/step - loss: 0.3135 - accuracy: 0.8866 - val_loss: 1.2698 - val_accuracy: 0.6288\n",
      "Epoch 57/100\n",
      "451/451 [==============================] - 306s 677ms/step - loss: 0.3068 - accuracy: 0.8894 - val_loss: 1.2593 - val_accuracy: 0.6292\n",
      "Epoch 58/100\n",
      "451/451 [==============================] - 306s 678ms/step - loss: 0.2957 - accuracy: 0.8943 - val_loss: 1.2940 - val_accuracy: 0.6333\n",
      "Epoch 59/100\n",
      "451/451 [==============================] - 306s 678ms/step - loss: 0.2934 - accuracy: 0.8960 - val_loss: 1.3026 - val_accuracy: 0.6322\n",
      "Epoch 60/100\n",
      "451/451 [==============================] - 306s 679ms/step - loss: 0.2835 - accuracy: 0.8982 - val_loss: 1.2937 - val_accuracy: 0.6291\n",
      "Epoch 61/100\n",
      "451/451 [==============================] - 305s 677ms/step - loss: 0.2774 - accuracy: 0.9001 - val_loss: 1.3098 - val_accuracy: 0.6363\n",
      "Epoch 62/100\n",
      "451/451 [==============================] - 305s 677ms/step - loss: 0.2698 - accuracy: 0.9035 - val_loss: 1.3178 - val_accuracy: 0.6313\n",
      "Epoch 63/100\n",
      "451/451 [==============================] - 306s 677ms/step - loss: 0.2568 - accuracy: 0.9071 - val_loss: 1.3450 - val_accuracy: 0.6327\n",
      "Epoch 64/100\n",
      "451/451 [==============================] - 306s 679ms/step - loss: 0.2528 - accuracy: 0.9098 - val_loss: 1.3599 - val_accuracy: 0.6298\n",
      "Epoch 65/100\n",
      "451/451 [==============================] - 305s 677ms/step - loss: 0.2482 - accuracy: 0.9132 - val_loss: 1.3304 - val_accuracy: 0.6288\n",
      "Epoch 66/100\n",
      "451/451 [==============================] - 305s 677ms/step - loss: 0.2429 - accuracy: 0.9152 - val_loss: 1.3599 - val_accuracy: 0.6320\n",
      "Epoch 67/100\n",
      "451/451 [==============================] - 306s 678ms/step - loss: 0.2427 - accuracy: 0.9125 - val_loss: 1.3675 - val_accuracy: 0.6325\n",
      "Epoch 68/100\n",
      "451/451 [==============================] - 311s 689ms/step - loss: 0.2334 - accuracy: 0.9171 - val_loss: 1.3701 - val_accuracy: 0.6292\n",
      "Epoch 69/100\n",
      "451/451 [==============================] - 306s 678ms/step - loss: 0.2348 - accuracy: 0.9182 - val_loss: 1.3642 - val_accuracy: 0.6336\n",
      "Epoch 70/100\n",
      "451/451 [==============================] - 306s 678ms/step - loss: 0.2243 - accuracy: 0.9207 - val_loss: 1.3838 - val_accuracy: 0.6284\n",
      "Epoch 71/100\n",
      "451/451 [==============================] - 306s 679ms/step - loss: 0.2172 - accuracy: 0.9245 - val_loss: 1.3895 - val_accuracy: 0.6299\n",
      "Epoch 72/100\n",
      "451/451 [==============================] - 306s 679ms/step - loss: 0.2141 - accuracy: 0.9251 - val_loss: 1.4074 - val_accuracy: 0.6296\n",
      "Epoch 73/100\n",
      "451/451 [==============================] - 306s 678ms/step - loss: 0.2080 - accuracy: 0.9256 - val_loss: 1.3984 - val_accuracy: 0.6295\n",
      "Epoch 74/100\n",
      "451/451 [==============================] - 305s 677ms/step - loss: 0.2061 - accuracy: 0.9281 - val_loss: 1.4052 - val_accuracy: 0.6262\n",
      "Epoch 75/100\n",
      "451/451 [==============================] - 306s 678ms/step - loss: 0.2006 - accuracy: 0.9289 - val_loss: 1.4640 - val_accuracy: 0.6303\n",
      "Epoch 76/100\n",
      "451/451 [==============================] - 305s 677ms/step - loss: 0.1945 - accuracy: 0.9302 - val_loss: 1.4446 - val_accuracy: 0.6339\n",
      "Epoch 77/100\n",
      "451/451 [==============================] - 407s 902ms/step - loss: 0.2008 - accuracy: 0.9305 - val_loss: 1.4548 - val_accuracy: 0.6277\n",
      "Epoch 78/100\n",
      "451/451 [==============================] - 350s 776ms/step - loss: 0.1913 - accuracy: 0.9320 - val_loss: 1.4319 - val_accuracy: 0.6313\n",
      "Epoch 79/100\n",
      "451/451 [==============================] - 306s 679ms/step - loss: 0.1902 - accuracy: 0.9346 - val_loss: 1.4381 - val_accuracy: 0.6346\n",
      "Epoch 80/100\n",
      "451/451 [==============================] - 306s 677ms/step - loss: 0.1824 - accuracy: 0.9353 - val_loss: 1.4661 - val_accuracy: 0.6294\n",
      "Epoch 81/100\n",
      "451/451 [==============================] - 433s 962ms/step - loss: 0.1795 - accuracy: 0.9365 - val_loss: 1.4618 - val_accuracy: 0.6322\n",
      "Epoch 82/100\n",
      "451/451 [==============================] - 358s 794ms/step - loss: 0.1787 - accuracy: 0.9361 - val_loss: 1.5112 - val_accuracy: 0.6343\n",
      "Epoch 83/100\n",
      "451/451 [==============================] - 307s 680ms/step - loss: 0.1815 - accuracy: 0.9371 - val_loss: 1.4793 - val_accuracy: 0.6329\n",
      "Epoch 84/100\n",
      "451/451 [==============================] - 306s 679ms/step - loss: 0.1711 - accuracy: 0.9384 - val_loss: 1.5057 - val_accuracy: 0.6329\n",
      "Epoch 85/100\n",
      "451/451 [==============================] - 306s 679ms/step - loss: 0.1768 - accuracy: 0.9382 - val_loss: 1.5021 - val_accuracy: 0.6264\n",
      "Epoch 86/100\n",
      "451/451 [==============================] - 385s 853ms/step - loss: 0.1655 - accuracy: 0.9431 - val_loss: 1.5128 - val_accuracy: 0.6272\n",
      "Epoch 87/100\n",
      "451/451 [==============================] - 317s 702ms/step - loss: 0.1630 - accuracy: 0.9435 - val_loss: 1.5459 - val_accuracy: 0.6298\n",
      "Epoch 88/100\n",
      "451/451 [==============================] - 307s 681ms/step - loss: 0.1623 - accuracy: 0.9429 - val_loss: 1.5217 - val_accuracy: 0.6384\n",
      "Epoch 89/100\n",
      "451/451 [==============================] - 307s 681ms/step - loss: 0.1612 - accuracy: 0.9437 - val_loss: 1.5271 - val_accuracy: 0.6306\n",
      "Epoch 90/100\n",
      "451/451 [==============================] - 307s 681ms/step - loss: 0.1617 - accuracy: 0.9425 - val_loss: 1.5161 - val_accuracy: 0.6301\n",
      "Epoch 91/100\n",
      "451/451 [==============================] - 418s 926ms/step - loss: 0.1615 - accuracy: 0.9442 - val_loss: 1.5223 - val_accuracy: 0.6322\n",
      "Epoch 92/100\n",
      "451/451 [==============================] - 430s 955ms/step - loss: 0.1580 - accuracy: 0.9465 - val_loss: 1.5134 - val_accuracy: 0.6301\n",
      "Epoch 93/100\n",
      "451/451 [==============================] - 309s 682ms/step - loss: 0.1524 - accuracy: 0.9472 - val_loss: 1.5238 - val_accuracy: 0.6318\n",
      "Epoch 94/100\n",
      "451/451 [==============================] - 308s 684ms/step - loss: 0.1522 - accuracy: 0.9466 - val_loss: 1.5656 - val_accuracy: 0.6282\n",
      "Epoch 95/100\n",
      "451/451 [==============================] - 413s 917ms/step - loss: 0.1451 - accuracy: 0.9494 - val_loss: 1.5439 - val_accuracy: 0.6349\n",
      "Epoch 96/100\n",
      "451/451 [==============================] - 416s 922ms/step - loss: 0.1508 - accuracy: 0.9477 - val_loss: 1.5272 - val_accuracy: 0.6313\n",
      "Epoch 97/100\n",
      "451/451 [==============================] - 307s 680ms/step - loss: 0.1476 - accuracy: 0.9489 - val_loss: 1.5408 - val_accuracy: 0.6337\n",
      "Epoch 98/100\n",
      "451/451 [==============================] - 306s 679ms/step - loss: 0.1408 - accuracy: 0.9515 - val_loss: 1.5632 - val_accuracy: 0.6354\n",
      "Epoch 99/100\n",
      "451/451 [==============================] - 308s 684ms/step - loss: 0.1435 - accuracy: 0.9494 - val_loss: 1.5490 - val_accuracy: 0.6311\n",
      "Epoch 100/100\n",
      "451/451 [==============================] - 306s 679ms/step - loss: 0.1356 - accuracy: 0.9525 - val_loss: 1.5572 - val_accuracy: 0.6318\n"
     ]
    }
   ],
   "source": [
    "\n",
    "# Model training\n",
    "model_info = model.fit(\n",
    "    train_generator,\n",
    "    steps_per_epoch=len(train_generator),\n",
    "    epochs=100,\n",
    "    validation_data=test_generator,\n",
    "    validation_steps=len(test_generator)\n",
    ")\n"
   ]
  },
  {
   "cell_type": "code",
   "execution_count": 10,
   "id": "893e65b3-9270-4978-92c2-dc4f72f48fd0",
   "metadata": {},
   "outputs": [
    {
     "name": "stdout",
     "output_type": "stream",
     "text": [
      "111/111 [==============================] - 21s 183ms/step\n"
     ]
    }
   ],
   "source": [
    "# Model evaluation\n",
    "test_generator.reset()  # Reset the generator to avoid shuffling issues\n",
    "predictions = model.predict(test_generator)\n",
    "y_pred = np.argmax(predictions, axis=1)\n"
   ]
  },
  {
   "cell_type": "code",
   "execution_count": 12,
   "id": "c35a3efb-21a5-4f2f-9fc1-f09749f9d37b",
   "metadata": {},
   "outputs": [],
   "source": [
    "# Assuming you have 7 emotion classes, modify this dictionary accordingly\n",
    "emotion_dict = {\n",
    "    0: 'Angry',\n",
    "    1: 'Disgust',\n",
    "    2: 'Fear',\n",
    "    3: 'Happy',\n",
    "    4: 'Sad',\n",
    "    5: 'Surprise',\n",
    "    6: 'Neutral'\n",
    "}\n"
   ]
  },
  {
   "cell_type": "code",
   "execution_count": 13,
   "id": "137a822a-7d92-42e9-ace0-56d25d3b7b0c",
   "metadata": {},
   "outputs": [
    {
     "data": {
      "image/png": "[encoded data removed]",
      "text/plain": [
       "<Figure size 700x700 with 2 Axes>"
      ]
     },
     "metadata": {},
     "output_type": "display_data"
    }
   ],
   "source": [
    "# Confusion Matrix\n",
    "cm = confusion_matrix(test_generator.classes, y_pred)\n",
    "plt.figure(figsize=(7, 7))\n",
    "sns.heatmap(cm, annot=True, fmt=\"d\", cmap=\"Blues\", xticklabels=emotion_dict.values(), yticklabels=emotion_dict.values())\n",
    "plt.title(\"Confusion Matrix\")\n",
    "plt.xlabel(\"Predicted\")\n",
    "plt.ylabel(\"Actual\")\n",
    "plt.show()"
   ]
  },
  {
   "cell_type": "code",
   "execution_count": 14,
   "id": "337834c3-e0db-481b-9a0b-d0527d4bcd28",
   "metadata": {},
   "outputs": [
    {
     "name": "stdout",
     "output_type": "stream",
     "text": [
      "              precision    recall  f1-score   support\n",
      "\n",
      "       Angry       0.53      0.54      0.53       960\n",
      "     Disgust       0.80      0.59      0.68       111\n",
      "        Fear       0.54      0.43      0.48      1018\n",
      "       Happy       0.80      0.83      0.82      1825\n",
      "         Sad       0.55      0.60      0.57      1216\n",
      "    Surprise       0.49      0.50      0.50      1139\n",
      "     Neutral       0.77      0.78      0.78       797\n",
      "\n",
      "    accuracy                           0.63      7066\n",
      "   macro avg       0.64      0.61      0.62      7066\n",
      "weighted avg       0.63      0.63      0.63      7066\n",
      "\n"
     ]
    }
   ],
   "source": [
    "# Classification Report\n",
    "class_labels = list(emotion_dict.values())\n",
    "print(classification_report(test_generator.classes, y_pred, target_names=class_labels))"
   ]
  },
  {
   "cell_type": "code",
   "execution_count": 16,
   "id": "71523ca3-ccba-4a67-87f9-062903fee068",
   "metadata": {},
   "outputs": [],
   "source": [
    "# Save the model architecture as JSON\n",
    "model_json = model.to_json()\n",
    "with open(\"emotiondetector_model.json\", \"w\") as json_file:\n",
    "    json_file.write(model_json)\n",
    "\n",
    "# Save the model weights in HDF5 format\n",
    "model.save_weights(\"emotiondetector_weights.h5\")\n",
    "\n",
    "\n"
   ]
  },
  {
   "cell_type": "code",
   "execution_count": null,
   "id": "1c64dac3-9421-4fbc-9f9c-3259eec7c6c3",
   "metadata": {},
   "outputs": [],
   "source": []
  }
 ],
 "metadata": {
  "kernelspec": {
   "display_name": "Python 3 (ipykernel)",
   "language": "python",
   "name": "python3"
  },
  "language_info": {
   "codemirror_mode": {
    "name": "ipython",
    "version": 3
   },
   "file_extension": ".py",
   "mimetype": "text/x-python",
   "name": "python",
   "nbconvert_exporter": "python",
   "pygments_lexer": "ipython3",
   "version": "3.9.0"
  }
 },
 "nbformat": 4,
 "nbformat_minor": 5
}
